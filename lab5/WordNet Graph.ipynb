{
 "cells": [
  {
   "cell_type": "code",
   "execution_count": 4,
   "metadata": {},
   "outputs": [],
   "source": []
  },
  {
   "cell_type": "code",
   "execution_count": 22,
   "metadata": {},
   "outputs": [
    {
     "name": "stderr",
     "output_type": "stream",
     "text": [
      "[nltk_data] Downloading package wordnet to\n",
      "[nltk_data]     C:\\Users\\Makpal\\AppData\\Roaming\\nltk_data...\n",
      "[nltk_data]   Package wordnet is already up-to-date!\n"
     ]
    },
    {
     "data": {
      "text/plain": [
       "True"
      ]
     },
     "execution_count": 22,
     "metadata": {},
     "output_type": "execute_result"
    }
   ],
   "source": [
    "import nltk\n",
    "nltk.download('wordnet')"
   ]
  },
  {
   "cell_type": "code",
   "execution_count": 23,
   "metadata": {},
   "outputs": [],
   "source": [
    "from nltk.corpus import wordnet as wn"
   ]
  },
  {
   "cell_type": "code",
   "execution_count": 24,
   "metadata": {},
   "outputs": [],
   "source": [
    "def closure_graph(synset,fn):\n",
    "    seen = set()\n",
    "    node = set()\n",
    "    edge = list()\n",
    "    \n",
    "    \n",
    "    def recurse(s):\n",
    "        if not s in seen:\n",
    "            seen.add(s)\n",
    "            print(s.lemma_names('eng')[0])\n",
    "            node.add(s.lemma_names('eng')[0])\n",
    "            for s1 in fn(s):\n",
    "                \n",
    "                node.add(s1.lemma_names('eng')[0])\n",
    "                edge.append({\"source\":s.lemma_names('eng')[0],\"target\":s1.lemma_names('eng')[0]})\n",
    "                recurse(s1)\n",
    "    recurse(synset)\n",
    "    return (list(node),edge)"
   ]
  },
  {
   "cell_type": "code",
   "execution_count": 25,
   "metadata": {},
   "outputs": [
    {
     "name": "stdout",
     "output_type": "stream",
     "text": [
      "horse\n",
      "equine\n",
      "odd-toed_ungulate\n",
      "ungulate\n",
      "placental\n",
      "mammal\n",
      "vertebrate\n",
      "chordate\n",
      "animal\n",
      "organism\n",
      "living_thing\n",
      "whole\n",
      "object\n",
      "physical_entity\n",
      "entity\n"
     ]
    },
    {
     "data": {
      "text/plain": [
       "(['equine',\n",
       "  'placental',\n",
       "  'whole',\n",
       "  'physical_entity',\n",
       "  'vertebrate',\n",
       "  'living_thing',\n",
       "  'object',\n",
       "  'entity',\n",
       "  'horse',\n",
       "  'mammal',\n",
       "  'chordate',\n",
       "  'ungulate',\n",
       "  'animal',\n",
       "  'organism',\n",
       "  'odd-toed_ungulate'],\n",
       " [{'source': 'horse', 'target': 'equine'},\n",
       "  {'source': 'equine', 'target': 'odd-toed_ungulate'},\n",
       "  {'source': 'odd-toed_ungulate', 'target': 'ungulate'},\n",
       "  {'source': 'ungulate', 'target': 'placental'},\n",
       "  {'source': 'placental', 'target': 'mammal'},\n",
       "  {'source': 'mammal', 'target': 'vertebrate'},\n",
       "  {'source': 'vertebrate', 'target': 'chordate'},\n",
       "  {'source': 'chordate', 'target': 'animal'},\n",
       "  {'source': 'animal', 'target': 'organism'},\n",
       "  {'source': 'organism', 'target': 'living_thing'},\n",
       "  {'source': 'living_thing', 'target': 'whole'},\n",
       "  {'source': 'whole', 'target': 'object'},\n",
       "  {'source': 'object', 'target': 'physical_entity'},\n",
       "  {'source': 'physical_entity', 'target': 'entity'}])"
      ]
     },
     "execution_count": 25,
     "metadata": {},
     "output_type": "execute_result"
    }
   ],
   "source": [
    "import json\n",
    "\n",
    "hporse = wn.synset('horse.n.01')\n",
    "graph = closure_graph(horse,lambda s: s.hypernyms())\n",
    "graph"
   ]
  },
  {
   "cell_type": "code",
   "execution_count": 26,
   "metadata": {},
   "outputs": [
    {
     "name": "stdout",
     "output_type": "stream",
     "text": [
      "[{'id': 0, 'name': 'equine'}, {'id': 1, 'name': 'placental'}, {'id': 2, 'name': 'whole'}, {'id': 3, 'name': 'physical_entity'}, {'id': 4, 'name': 'vertebrate'}, {'id': 5, 'name': 'living_thing'}, {'id': 6, 'name': 'object'}, {'id': 7, 'name': 'entity'}, {'id': 8, 'name': 'horse'}, {'id': 9, 'name': 'mammal'}, {'id': 10, 'name': 'chordate'}, {'id': 11, 'name': 'ungulate'}, {'id': 12, 'name': 'animal'}, {'id': 13, 'name': 'organism'}, {'id': 14, 'name': 'odd-toed_ungulate'}]\n"
     ]
    }
   ],
   "source": [
    "vocabulary = []\n",
    "for token in graph[0]:\n",
    "    if token not in vocabulary:\n",
    "        vocabulary.append(token)\n",
    "json_1 = []\n",
    "for i in range(len(vocabulary)):\n",
    "    json_1.append({\"id\":i, \"name\": vocabulary[i]})\n",
    "\n",
    "vocabulary_size = len(vocabulary)\n",
    "print(json_1)"
   ]
  },
  {
   "cell_type": "code",
   "execution_count": 27,
   "metadata": {},
   "outputs": [],
   "source": [
    "json_2 = graph[1]\n",
    "for j in range(len(json_1)):\n",
    "    for i in range(len(graph[1])):    \n",
    "        if (json_1[j]['name'] ==  json_2[i]['source']):\n",
    "            json_2[i]['source'] = json_1[j]['id']\n",
    "        if (json_1[j]['name'] ==  json_2[i]['target']):\n",
    "            json_2[i]['target'] = json_1[j]['id']"
   ]
  },
  {
   "cell_type": "code",
   "execution_count": 28,
   "metadata": {},
   "outputs": [],
   "source": [
    "with open(\"wordnet.json\",\"w\") as fh:\n",
    "    json.dump({\"nodes\":json_1,\"links\":json_2},fh)"
   ]
  },
  {
   "cell_type": "code",
   "execution_count": 29,
   "metadata": {},
   "outputs": [],
   "source": [
    "def closure_graph(synset,fn):\n",
    "    seen = set()\n",
    "    node = set()\n",
    "    edge = list()\n",
    "    \n",
    "    \n",
    "    def recurse(s):\n",
    "        if not s in seen:\n",
    "            seen.add(s)\n",
    "            print(s.lemma_names('eng')[0])\n",
    "            node.add(s.lemma_names('eng')[0])\n",
    "            \n",
    "            for s_syn in s.lemma_names('eng'):\n",
    "                if not s_syn in seen:\n",
    "                    node.add(s_syn)\n",
    "                edge.append({\"source\":s.lemma_names('eng')[0],\"target\":s_syn, \"relation\":\"synonym\"})\n",
    "            \n",
    "            \n",
    "            for s1 in fn(s):\n",
    "                if not s1 in seen:\n",
    "                    node.add(s1.lemma_names('eng')[0])\n",
    "                edge.append({\"source\":s.lemma_names('eng')[0],\n",
    "                             \"target\":s1.lemma_names('eng')[0], \n",
    "                             \"relation\":\"hyperonym\"})\n",
    "                recurse(s1)\n",
    "    recurse(synset)\n",
    "    return (list(node),edge)"
   ]
  },
  {
   "cell_type": "code",
   "execution_count": 30,
   "metadata": {},
   "outputs": [
    {
     "name": "stdout",
     "output_type": "stream",
     "text": [
      "horse\n",
      "equine\n",
      "odd-toed_ungulate\n",
      "ungulate\n",
      "placental\n",
      "mammal\n",
      "vertebrate\n",
      "chordate\n",
      "animal\n",
      "organism\n",
      "living_thing\n",
      "whole\n",
      "object\n",
      "physical_entity\n",
      "entity\n"
     ]
    }
   ],
   "source": [
    "horse = wn.synset('horse.n.01')\n",
    "graph = closure_graph(horse,lambda s: s.hypernyms())"
   ]
  },
  {
   "cell_type": "code",
   "execution_count": 31,
   "metadata": {},
   "outputs": [
    {
     "data": {
      "text/plain": [
       "(['unit',\n",
       "  'physical_entity',\n",
       "  'hoofed_mammal',\n",
       "  'brute',\n",
       "  'chordate',\n",
       "  'physical_object',\n",
       "  'perissodactyl_mammal',\n",
       "  'craniate',\n",
       "  'ungulate',\n",
       "  'animate_being',\n",
       "  'creature',\n",
       "  'organism',\n",
       "  'odd-toed_ungulate',\n",
       "  'Equus_caballus',\n",
       "  'eutherian',\n",
       "  'eutherian_mammal',\n",
       "  'equid',\n",
       "  'animate_thing',\n",
       "  'perissodactyl',\n",
       "  'mammalian',\n",
       "  'equine',\n",
       "  'object',\n",
       "  'horse',\n",
       "  'fauna',\n",
       "  'animal',\n",
       "  'placental',\n",
       "  'placental_mammal',\n",
       "  'whole',\n",
       "  'vertebrate',\n",
       "  'living_thing',\n",
       "  'entity',\n",
       "  'being',\n",
       "  'mammal',\n",
       "  'beast'],\n",
       " [{'source': 'horse', 'target': 'horse', 'relation': 'synonym'},\n",
       "  {'source': 'horse', 'target': 'Equus_caballus', 'relation': 'synonym'},\n",
       "  {'source': 'horse', 'target': 'equine', 'relation': 'hyperonym'},\n",
       "  {'source': 'equine', 'target': 'equine', 'relation': 'synonym'},\n",
       "  {'source': 'equine', 'target': 'equid', 'relation': 'synonym'},\n",
       "  {'source': 'equine', 'target': 'odd-toed_ungulate', 'relation': 'hyperonym'},\n",
       "  {'source': 'odd-toed_ungulate',\n",
       "   'target': 'odd-toed_ungulate',\n",
       "   'relation': 'synonym'},\n",
       "  {'source': 'odd-toed_ungulate',\n",
       "   'target': 'perissodactyl',\n",
       "   'relation': 'synonym'},\n",
       "  {'source': 'odd-toed_ungulate',\n",
       "   'target': 'perissodactyl_mammal',\n",
       "   'relation': 'synonym'},\n",
       "  {'source': 'odd-toed_ungulate',\n",
       "   'target': 'ungulate',\n",
       "   'relation': 'hyperonym'},\n",
       "  {'source': 'ungulate', 'target': 'ungulate', 'relation': 'synonym'},\n",
       "  {'source': 'ungulate', 'target': 'hoofed_mammal', 'relation': 'synonym'},\n",
       "  {'source': 'ungulate', 'target': 'placental', 'relation': 'hyperonym'},\n",
       "  {'source': 'placental', 'target': 'placental', 'relation': 'synonym'},\n",
       "  {'source': 'placental', 'target': 'placental_mammal', 'relation': 'synonym'},\n",
       "  {'source': 'placental', 'target': 'eutherian', 'relation': 'synonym'},\n",
       "  {'source': 'placental', 'target': 'eutherian_mammal', 'relation': 'synonym'},\n",
       "  {'source': 'placental', 'target': 'mammal', 'relation': 'hyperonym'},\n",
       "  {'source': 'mammal', 'target': 'mammal', 'relation': 'synonym'},\n",
       "  {'source': 'mammal', 'target': 'mammalian', 'relation': 'synonym'},\n",
       "  {'source': 'mammal', 'target': 'vertebrate', 'relation': 'hyperonym'},\n",
       "  {'source': 'vertebrate', 'target': 'vertebrate', 'relation': 'synonym'},\n",
       "  {'source': 'vertebrate', 'target': 'craniate', 'relation': 'synonym'},\n",
       "  {'source': 'vertebrate', 'target': 'chordate', 'relation': 'hyperonym'},\n",
       "  {'source': 'chordate', 'target': 'chordate', 'relation': 'synonym'},\n",
       "  {'source': 'chordate', 'target': 'animal', 'relation': 'hyperonym'},\n",
       "  {'source': 'animal', 'target': 'animal', 'relation': 'synonym'},\n",
       "  {'source': 'animal', 'target': 'animate_being', 'relation': 'synonym'},\n",
       "  {'source': 'animal', 'target': 'beast', 'relation': 'synonym'},\n",
       "  {'source': 'animal', 'target': 'brute', 'relation': 'synonym'},\n",
       "  {'source': 'animal', 'target': 'creature', 'relation': 'synonym'},\n",
       "  {'source': 'animal', 'target': 'fauna', 'relation': 'synonym'},\n",
       "  {'source': 'animal', 'target': 'organism', 'relation': 'hyperonym'},\n",
       "  {'source': 'organism', 'target': 'organism', 'relation': 'synonym'},\n",
       "  {'source': 'organism', 'target': 'being', 'relation': 'synonym'},\n",
       "  {'source': 'organism', 'target': 'living_thing', 'relation': 'hyperonym'},\n",
       "  {'source': 'living_thing', 'target': 'living_thing', 'relation': 'synonym'},\n",
       "  {'source': 'living_thing', 'target': 'animate_thing', 'relation': 'synonym'},\n",
       "  {'source': 'living_thing', 'target': 'whole', 'relation': 'hyperonym'},\n",
       "  {'source': 'whole', 'target': 'whole', 'relation': 'synonym'},\n",
       "  {'source': 'whole', 'target': 'unit', 'relation': 'synonym'},\n",
       "  {'source': 'whole', 'target': 'object', 'relation': 'hyperonym'},\n",
       "  {'source': 'object', 'target': 'object', 'relation': 'synonym'},\n",
       "  {'source': 'object', 'target': 'physical_object', 'relation': 'synonym'},\n",
       "  {'source': 'object', 'target': 'physical_entity', 'relation': 'hyperonym'},\n",
       "  {'source': 'physical_entity',\n",
       "   'target': 'physical_entity',\n",
       "   'relation': 'synonym'},\n",
       "  {'source': 'physical_entity', 'target': 'entity', 'relation': 'hyperonym'},\n",
       "  {'source': 'entity', 'target': 'entity', 'relation': 'synonym'}])"
      ]
     },
     "execution_count": 31,
     "metadata": {},
     "output_type": "execute_result"
    }
   ],
   "source": [
    "graph"
   ]
  },
  {
   "cell_type": "code",
   "execution_count": 32,
   "metadata": {},
   "outputs": [
    {
     "name": "stdout",
     "output_type": "stream",
     "text": [
      "48\n"
     ]
    }
   ],
   "source": [
    "enc = enumerate(graph[0])\n",
    "enc = list(enc)\n",
    "print(len(graph[1]))\n",
    "for i in range(0,len(graph[1])):\n",
    "    \n",
    "    for j in range(0,len(enc)):\n",
    "        if graph[1][i]['source']== enc[j][1]:\n",
    "            graph[1][i]['source']=enc[j][0]\n",
    "        if graph[1][i]['target']== enc[j][1]:\n",
    "            graph[1][i]['target']=enc[j][0]\n",
    "            \n",
    "for i in range(0,len(graph[0])):\n",
    "        for j in range(0,len(enc)):\n",
    "            if graph[0][i]== enc[j][1]:\n",
    "                graph[0][i]={\"id\":enc[j][0], \"name\":graph[0][i]}"
   ]
  },
  {
   "cell_type": "code",
   "execution_count": 33,
   "metadata": {},
   "outputs": [
    {
     "name": "stdout",
     "output_type": "stream",
     "text": [
      "graph[0] {'id': 0, 'name': 'unit'}\n",
      "graph[0] [{'id': 0, 'name': 'unit'}, {'id': 1, 'name': 'physical_entity'}, {'id': 2, 'name': 'hoofed_mammal'}, {'id': 3, 'name': 'brute'}, {'id': 4, 'name': 'chordate'}, {'id': 5, 'name': 'physical_object'}, {'id': 6, 'name': 'perissodactyl_mammal'}, {'id': 7, 'name': 'craniate'}, {'id': 8, 'name': 'ungulate'}, {'id': 9, 'name': 'animate_being'}, {'id': 10, 'name': 'creature'}, {'id': 11, 'name': 'organism'}, {'id': 12, 'name': 'odd-toed_ungulate'}, {'id': 13, 'name': 'Equus_caballus'}, {'id': 14, 'name': 'eutherian'}, {'id': 15, 'name': 'eutherian_mammal'}, {'id': 16, 'name': 'equid'}, {'id': 17, 'name': 'animate_thing'}, {'id': 18, 'name': 'perissodactyl'}, {'id': 19, 'name': 'mammalian'}, {'id': 20, 'name': 'equine'}, {'id': 21, 'name': 'object'}, {'id': 22, 'name': 'horse'}, {'id': 23, 'name': 'fauna'}, {'id': 24, 'name': 'animal'}, {'id': 25, 'name': 'placental'}, {'id': 26, 'name': 'placental_mammal'}, {'id': 27, 'name': 'whole'}, {'id': 28, 'name': 'vertebrate'}, {'id': 29, 'name': 'living_thing'}, {'id': 30, 'name': 'entity'}, {'id': 31, 'name': 'being'}, {'id': 32, 'name': 'mammal'}, {'id': 33, 'name': 'beast'}]\n"
     ]
    }
   ],
   "source": [
    "import json\n",
    "\n",
    "print('graph[0]', graph[0][0])\n",
    "with open(\"wordnet_final.json\",\"w\") as fh:\n",
    "    print('graph[0]', list(map(dict, graph[0])))\n",
    "    json.dump({\"node\": graph[0],\"edge\":graph[1]},fh)"
   ]
  },
  {
   "cell_type": "code",
   "execution_count": null,
   "metadata": {},
   "outputs": [],
   "source": []
  }
 ],
 "metadata": {
  "kernelspec": {
   "display_name": "Python 3",
   "language": "python",
   "name": "python3"
  },
  "language_info": {
   "codemirror_mode": {
    "name": "ipython",
    "version": 3
   },
   "file_extension": ".py",
   "mimetype": "text/x-python",
   "name": "python",
   "nbconvert_exporter": "python",
   "pygments_lexer": "ipython3",
   "version": "3.8.5"
  }
 },
 "nbformat": 4,
 "nbformat_minor": 4
}
