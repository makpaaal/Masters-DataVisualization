{
 "cells": [
  {
   "cell_type": "code",
   "execution_count": 2,
   "metadata": {},
   "outputs": [],
   "source": [
    "from IPython.core.display import HTML"
   ]
  },
  {
   "cell_type": "code",
   "execution_count": 3,
   "metadata": {},
   "outputs": [
    {
     "data": {
      "text/html": [
       "\n",
       "<h1>Hello DOM!\n"
      ],
      "text/plain": [
       "<IPython.core.display.HTML object>"
      ]
     },
     "execution_count": 3,
     "metadata": {},
     "output_type": "execute_result"
    }
   ],
   "source": [
    "HTML('''\n",
    "<h1>Hello DOM!\n",
    "''')"
   ]
  },
  {
   "cell_type": "code",
   "execution_count": 4,
   "metadata": {},
   "outputs": [
    {
     "data": {
      "text/html": [
       "\n",
       "<style>\n",
       "    .mastyle {\n",
       "    color:blue;\n",
       "    font-face: 16px script;\n",
       "    }\n",
       "</style>\n",
       "<h1 class=\"mastyle\">\n",
       "    Hello stylish Dom!!!\n",
       "</h1>\n"
      ],
      "text/plain": [
       "<IPython.core.display.HTML object>"
      ]
     },
     "execution_count": 4,
     "metadata": {},
     "output_type": "execute_result"
    }
   ],
   "source": [
    "HTML('''\n",
    "<style>\n",
    "    .mastyle {\n",
    "    color:blue;\n",
    "    font-face: 16px script;\n",
    "    }\n",
    "</style>\n",
    "<h1 class=\"mastyle\">\n",
    "    Hello stylish Dom!!!\n",
    "</h1>\n",
    "''')"
   ]
  },
  {
   "cell_type": "code",
   "execution_count": 5,
   "metadata": {},
   "outputs": [
    {
     "data": {
      "text/html": [
       "\n",
       "<style>\n",
       "    .mastyle {\n",
       "    color:blue;\n",
       "    font-face: 16px script;\n",
       "    }\n",
       "</style>\n",
       "<h1 class=\"mastyle\" id=\"maelement\">\n",
       "    Hello stylish Dom!!!\n",
       "</h1>\n",
       "<script>\n",
       "    $(\"#maelement\").text(\"Hello stylish Dom with JavaCode in it!!!\");\n",
       "</script>\n"
      ],
      "text/plain": [
       "<IPython.core.display.HTML object>"
      ]
     },
     "execution_count": 5,
     "metadata": {},
     "output_type": "execute_result"
    }
   ],
   "source": [
    "HTML('''\n",
    "<style>\n",
    "    .mastyle {\n",
    "    color:blue;\n",
    "    font-face: 16px script;\n",
    "    }\n",
    "</style>\n",
    "<h1 class=\"mastyle\" id=\"maelement\">\n",
    "    Hello stylish Dom!!!\n",
    "</h1>\n",
    "<script>\n",
    "    $(\"#maelement\").text(\"Hello stylish Dom with JavaCode in it!!!\");\n",
    "</script>\n",
    "''')"
   ]
  },
  {
   "cell_type": "code",
   "execution_count": 6,
   "metadata": {},
   "outputs": [
    {
     "data": {
      "text/html": [
       "<script src=\"d3.js\"></script>"
      ],
      "text/plain": [
       "<IPython.core.display.HTML object>"
      ]
     },
     "execution_count": 6,
     "metadata": {},
     "output_type": "execute_result"
    }
   ],
   "source": [
    "HTML('<script src=\"d3.js\"></script>')"
   ]
  },
  {
   "cell_type": "code",
   "execution_count": 7,
   "metadata": {},
   "outputs": [
    {
     "data": {
      "text/html": [
       "\n",
       "<style>\n",
       "    .newstyle {\n",
       "    color:blue;\n",
       "    font-face: 16px script;\n",
       "    }\n",
       "</style>\n",
       "<div class=\"newstyle\" id=\"newelement\">\n",
       "</div>\n",
       "<script>\n",
       "    var data = [10,20,30];\n",
       "    d3.select(\"#newelement\").selectAll(\".newstyle\")\n",
       "    .data(data)\n",
       "    .enter()\n",
       "    .append(\"p\")\n",
       "    .attr(\"class\",\"newstyle\")\n",
       "    .style(\"font-size\", function(d){return \"\"+d+\"px\";})\n",
       "    .text(\"Hello D3!\");\n",
       "</script>\n"
      ],
      "text/plain": [
       "<IPython.core.display.HTML object>"
      ]
     },
     "execution_count": 7,
     "metadata": {},
     "output_type": "execute_result"
    }
   ],
   "source": [
    "HTML('''\n",
    "<style>\n",
    "    .newstyle {\n",
    "    color:blue;\n",
    "    font-face: 16px script;\n",
    "    }\n",
    "</style>\n",
    "<div class=\"newstyle\" id=\"newelement\">\n",
    "</div>\n",
    "<script>\n",
    "    var data = [10,20,30];\n",
    "    d3.select(\"#newelement\").selectAll(\".newstyle\")\n",
    "    .data(data)\n",
    "    .enter()\n",
    "    .append(\"p\")\n",
    "    .attr(\"class\",\"newstyle\")\n",
    "    .style(\"font-size\", function(d){return \"\"+d+\"px\";})\n",
    "    .text(\"Hello D3!\");\n",
    "</script>\n",
    "''')"
   ]
  },
  {
   "cell_type": "code",
   "execution_count": null,
   "metadata": {},
   "outputs": [],
   "source": []
  }
 ],
 "metadata": {
  "kernelspec": {
   "display_name": "Python 3",
   "language": "python",
   "name": "python3"
  },
  "language_info": {
   "codemirror_mode": {
    "name": "ipython",
    "version": 3
   },
   "file_extension": ".py",
   "mimetype": "text/x-python",
   "name": "python",
   "nbconvert_exporter": "python",
   "pygments_lexer": "ipython3",
   "version": "3.8.5"
  }
 },
 "nbformat": 4,
 "nbformat_minor": 4
}
