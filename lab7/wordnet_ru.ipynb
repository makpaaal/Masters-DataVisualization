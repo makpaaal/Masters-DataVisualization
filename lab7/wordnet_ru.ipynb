{
 "cells": [
  {
   "cell_type": "code",
   "execution_count": 2,
   "metadata": {},
   "outputs": [],
   "source": [
    "from wiki_ru_wordnet import WikiWordnet"
   ]
  },
  {
   "cell_type": "code",
   "execution_count": 15,
   "metadata": {},
   "outputs": [
    {
     "name": "stdout",
     "output_type": "stream",
     "text": [
      "{'кошка'}\n",
      "{'хищник'}\n",
      "{'зверь', 'млекопитающее'}\n"
     ]
    }
   ],
   "source": [
    "wikiwordnet = WikiWordnet()\n",
    "\n",
    "synsets = wikiwordnet.get_synsets('кот')\n",
    "synset1 = synsets[0]\n",
    "for hypernym in wikiwordnet.get_hypernyms(synset1):\n",
    "    print({w.lemma() for w in hypernym.get_words()})"
   ]
  },
  {
   "cell_type": "code",
   "execution_count": 16,
   "metadata": {},
   "outputs": [
    {
     "name": "stdout",
     "output_type": "stream",
     "text": [
      "[<wiki_ru_wordnet.synset.Synset object at 0x000002F6E4973100>, <wiki_ru_wordnet.synset.Synset object at 0x000002F6E4973160>, <wiki_ru_wordnet.synset.Synset object at 0x000002F6E49731C0>]\n",
      "{'позвоночное'}\n"
     ]
    }
   ],
   "source": [
    "synsets = wikiwordnet.get_synsets('зверь')\n",
    "print(synsets)\n",
    "synset1 = synsets[0]\n",
    "for hypernym in wikiwordnet.get_hypernyms(synset1):\n",
    "    print({w.lemma() for w in hypernym.get_words()})"
   ]
  },
  {
   "cell_type": "code",
   "execution_count": 17,
   "metadata": {},
   "outputs": [
    {
     "name": "stdout",
     "output_type": "stream",
     "text": [
      "[<wiki_ru_wordnet.synset.Synset object at 0x000002F6E4973100>]\n",
      "{'позвоночное'}\n"
     ]
    }
   ],
   "source": [
    "synsets = wikiwordnet.get_synsets('млекопитающее')\n",
    "print(synsets)\n",
    "synset1 = synsets[0]\n",
    "for hypernym in wikiwordnet.get_hypernyms(synset1):\n",
    "    print({w.lemma() for w in hypernym.get_words()})"
   ]
  },
  {
   "cell_type": "code",
   "execution_count": 18,
   "metadata": {},
   "outputs": [
    {
     "name": "stdout",
     "output_type": "stream",
     "text": [
      "[<wiki_ru_wordnet.synset.Synset object at 0x000002F6E49A9820>]\n",
      "{'животное'}\n",
      "{'живот'}\n"
     ]
    }
   ],
   "source": [
    "synsets = wikiwordnet.get_synsets('позвоночное')\n",
    "print(synsets)\n",
    "synset1 = synsets[0]\n",
    "for hypernym in wikiwordnet.get_hypernyms(synset1):\n",
    "    print({w.lemma() for w in hypernym.get_words()})"
   ]
  },
  {
   "cell_type": "code",
   "execution_count": 19,
   "metadata": {},
   "outputs": [
    {
     "name": "stdout",
     "output_type": "stream",
     "text": [
      "[<wiki_ru_wordnet.synset.Synset object at 0x000002F6E4945C40>, <wiki_ru_wordnet.synset.Synset object at 0x000002F6E4945CA0>, <wiki_ru_wordnet.synset.Synset object at 0x000002F6E4945D00>, <wiki_ru_wordnet.synset.Synset object at 0x000002F6E4945D60>, <wiki_ru_wordnet.synset.Synset object at 0x000002F6E4945DC0>, <wiki_ru_wordnet.synset.Synset object at 0x000002F6E4945E20>, <wiki_ru_wordnet.synset.Synset object at 0x000002F6E4945E80>, <wiki_ru_wordnet.synset.Synset object at 0x000002F6E4945EE0>, <wiki_ru_wordnet.synset.Synset object at 0x000002F6E4945F40>, <wiki_ru_wordnet.synset.Synset object at 0x000002F6E4945FA0>, <wiki_ru_wordnet.synset.Synset object at 0x000002F6E4946040>, <wiki_ru_wordnet.synset.Synset object at 0x000002F6E49460A0>]\n",
      "{'домашнее животное'}\n",
      "{'домашнее животное'}\n"
     ]
    }
   ],
   "source": [
    "synsets = wikiwordnet.get_synsets('кошка')\n",
    "print(synsets)\n",
    "synset1 = synsets[0]\n",
    "for hypernym in wikiwordnet.get_hypernyms(synset1):\n",
    "    print({w.lemma() for w in hypernym.get_words()})"
   ]
  },
  {
   "cell_type": "code",
   "execution_count": 20,
   "metadata": {},
   "outputs": [
    {
     "name": "stdout",
     "output_type": "stream",
     "text": [
      "[<wiki_ru_wordnet.synset.Synset object at 0x000002F6E4E050D0>, <wiki_ru_wordnet.synset.Synset object at 0x000002F6E4E05130>]\n",
      "{'животное'}\n"
     ]
    }
   ],
   "source": [
    "synsets = wikiwordnet.get_synsets('домашнее животное')\n",
    "print(synsets)\n",
    "synset1 = synsets[0]\n",
    "for hypernym in wikiwordnet.get_hypernyms(synset1):\n",
    "    print({w.lemma() for w in hypernym.get_words()})"
   ]
  },
  {
   "cell_type": "code",
   "execution_count": 21,
   "metadata": {},
   "outputs": [
    {
     "name": "stdout",
     "output_type": "stream",
     "text": [
      "[<wiki_ru_wordnet.synset.Synset object at 0x000002F6E493CE80>, <wiki_ru_wordnet.synset.Synset object at 0x000002F6E493CEE0>]\n",
      "{'существо', 'создание'}\n",
      "{'скот', 'тварь', 'животина', 'животное'}\n"
     ]
    }
   ],
   "source": [
    "synsets = wikiwordnet.get_synsets('животное')\n",
    "print(synsets)\n",
    "synset1 = synsets[0]\n",
    "for hypernym in wikiwordnet.get_hypernyms(synset1):\n",
    "    print({w.lemma() for w in hypernym.get_words()})"
   ]
  },
  {
   "cell_type": "code",
   "execution_count": 23,
   "metadata": {},
   "outputs": [
    {
     "name": "stdout",
     "output_type": "stream",
     "text": [
      "[<wiki_ru_wordnet.synset.Synset object at 0x000002F6E493CEE0>]\n"
     ]
    }
   ],
   "source": [
    "synsets = wikiwordnet.get_synsets('животина')\n",
    "print(synsets)\n",
    "synset1 = synsets[0]\n",
    "for hypernym in wikiwordnet.get_hypernyms(synset1):\n",
    "    print({w.lemma() for w in hypernym.get_words()})"
   ]
  },
  {
   "cell_type": "code",
   "execution_count": 22,
   "metadata": {},
   "outputs": [
    {
     "name": "stdout",
     "output_type": "stream",
     "text": [
      "[<wiki_ru_wordnet.synset.Synset object at 0x000002F6E498B820>, <wiki_ru_wordnet.synset.Synset object at 0x000002F6E498B880>, <wiki_ru_wordnet.synset.Synset object at 0x000002F6E498B8E0>]\n"
     ]
    }
   ],
   "source": [
    "synsets = wikiwordnet.get_synsets('хищник')\n",
    "print(synsets)\n",
    "synset1 = synsets[0]\n",
    "for hypernym in wikiwordnet.get_hypernyms(synset1):\n",
    "    print({w.lemma() for w in hypernym.get_words()})"
   ]
  },
  {
   "cell_type": "code",
   "execution_count": null,
   "metadata": {},
   "outputs": [],
   "source": []
  }
 ],
 "metadata": {
  "kernelspec": {
   "display_name": "Python 3",
   "language": "python",
   "name": "python3"
  },
  "language_info": {
   "codemirror_mode": {
    "name": "ipython",
    "version": 3
   },
   "file_extension": ".py",
   "mimetype": "text/x-python",
   "name": "python",
   "nbconvert_exporter": "python",
   "pygments_lexer": "ipython3",
   "version": "3.8.5"
  }
 },
 "nbformat": 4,
 "nbformat_minor": 4
}
